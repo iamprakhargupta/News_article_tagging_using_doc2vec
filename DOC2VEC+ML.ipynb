{
 "cells": [
  {
   "cell_type": "code",
   "execution_count": 1,
   "metadata": {},
   "outputs": [],
   "source": [
    "from xml.dom import minidom"
   ]
  },
  {
   "cell_type": "code",
   "execution_count": 2,
   "metadata": {},
   "outputs": [],
   "source": [
    "mydoc = minidom.parse('Sample.xml')"
   ]
  },
  {
   "cell_type": "code",
   "execution_count": 3,
   "metadata": {},
   "outputs": [],
   "source": [
    "import pandas as pd"
   ]
  },
  {
   "cell_type": "code",
   "execution_count": 4,
   "metadata": {},
   "outputs": [],
   "source": [
    "items = mydoc.getElementsByTagName('item')"
   ]
  },
  {
   "cell_type": "code",
   "execution_count": 5,
   "metadata": {},
   "outputs": [],
   "source": [
    "title=[]\n",
    "description=[]\n",
    "issue=[]\n",
    "website=[]\n",
    "import numpy as np\n",
    "nan=np.nan\n",
    "for i in items:\n",
    "    title.append(i.getElementsByTagName('title')[0].childNodes[0].data)\n",
    "    if len(i.getElementsByTagName('description'))==0:\n",
    "        description.append(nan)\n",
    "    else:\n",
    "        description.append(i.getElementsByTagName('description')[0].childNodes[0].data)\n",
    "                \n",
    "    #description.append(i.getElementsByTagName('description').data)\n",
    "    issue.append(i.getElementsByTagName('issue')[0].childNodes[0].data)\n",
    "    website.append(i.getElementsByTagName('website')[0].childNodes[0].data)"
   ]
  },
  {
   "cell_type": "code",
   "execution_count": 6,
   "metadata": {},
   "outputs": [],
   "source": [
    "df=pd.DataFrame({\"title\":title ,\"issue\":issue,\"description\":description,\"website\":website })"
   ]
  },
  {
   "cell_type": "code",
   "execution_count": 7,
   "metadata": {},
   "outputs": [
    {
     "data": {
      "text/html": [
       "<div>\n",
       "<style scoped>\n",
       "    .dataframe tbody tr th:only-of-type {\n",
       "        vertical-align: middle;\n",
       "    }\n",
       "\n",
       "    .dataframe tbody tr th {\n",
       "        vertical-align: top;\n",
       "    }\n",
       "\n",
       "    .dataframe thead th {\n",
       "        text-align: right;\n",
       "    }\n",
       "</style>\n",
       "<table border=\"1\" class=\"dataframe\">\n",
       "  <thead>\n",
       "    <tr style=\"text-align: right;\">\n",
       "      <th></th>\n",
       "      <th>title</th>\n",
       "      <th>issue</th>\n",
       "      <th>description</th>\n",
       "      <th>website</th>\n",
       "    </tr>\n",
       "  </thead>\n",
       "  <tbody>\n",
       "    <tr>\n",
       "      <td>0</td>\n",
       "      <td>No Duty on Chinese Imports for Public Solar Po...</td>\n",
       "      <td>Ministry of New and Renewable Energy, Ministry...</td>\n",
       "      <td>New Delhi Chinese imports for public solar po...</td>\n",
       "      <td>The Economic Times - Delhi</td>\n",
       "    </tr>\n",
       "    <tr>\n",
       "      <td>1</td>\n",
       "      <td>Solar Tariffs Fall to Record Low of Rs 2.36/Unit</td>\n",
       "      <td>Ministry of New and Renewable Energy</td>\n",
       "      <td>Bengaluru: Solar tariffs fell to a record low...</td>\n",
       "      <td>The Economic Times - Mumbai</td>\n",
       "    </tr>\n",
       "    <tr>\n",
       "      <td>2</td>\n",
       "      <td>Corning appoints new MD for India</td>\n",
       "      <td>Honeywell</td>\n",
       "      <td>Corning Incorporated has announced that Sudhi...</td>\n",
       "      <td>BioSpectrum - National</td>\n",
       "    </tr>\n",
       "    <tr>\n",
       "      <td>3</td>\n",
       "      <td>L&amp;T Makes Key Component for Advanced Nuclear R...</td>\n",
       "      <td>L&amp;T, Larsen &amp; Toubro</td>\n",
       "      <td>MUMBAI Larsen &amp; Toubro has completed the manu...</td>\n",
       "      <td>The Economic Times - Delhi</td>\n",
       "    </tr>\n",
       "    <tr>\n",
       "      <td>4</td>\n",
       "      <td>Two percent discount on lump sum payment of el...</td>\n",
       "      <td>Power Ministry</td>\n",
       "      <td>NaN</td>\n",
       "      <td>Saamna - Mumbai</td>\n",
       "    </tr>\n",
       "    <tr>\n",
       "      <td>...</td>\n",
       "      <td>...</td>\n",
       "      <td>...</td>\n",
       "      <td>...</td>\n",
       "      <td>...</td>\n",
       "    </tr>\n",
       "    <tr>\n",
       "      <td>495</td>\n",
       "      <td>Canada: COVID-19 Relief For Saskatchewan Minin...</td>\n",
       "      <td>General Industry news</td>\n",
       "      <td>On June 12, 2020, the Government of Saskatche...</td>\n",
       "      <td>Mondaq</td>\n",
       "    </tr>\n",
       "    <tr>\n",
       "      <td>496</td>\n",
       "      <td>TN boiler explosion: Amit Shah assures all pos...</td>\n",
       "      <td>Power Industry News</td>\n",
       "      <td>Union Home Minister Amit Shah on Wednesday sa...</td>\n",
       "      <td>Webindia123</td>\n",
       "    </tr>\n",
       "    <tr>\n",
       "      <td>497</td>\n",
       "      <td>TN boiler explosion: Amit Shah assures all pos...</td>\n",
       "      <td>Power Industry News</td>\n",
       "      <td>New Delhi [India], July 1 (ANI): Union Home M...</td>\n",
       "      <td>Punjab Tribune</td>\n",
       "    </tr>\n",
       "    <tr>\n",
       "      <td>498</td>\n",
       "      <td>Tamil Nadu: 6 lost their lives, 17 injured in ...</td>\n",
       "      <td>Power Industry News</td>\n",
       "      <td>In Tamil Nadu, six people lost their lives an...</td>\n",
       "      <td>News On AIR</td>\n",
       "    </tr>\n",
       "    <tr>\n",
       "      <td>499</td>\n",
       "      <td>New investments in India plunge to 16-year low</td>\n",
       "      <td>Economy</td>\n",
       "      <td>Fresh capex announcements touched historic lo...</td>\n",
       "      <td>Livemint.com</td>\n",
       "    </tr>\n",
       "  </tbody>\n",
       "</table>\n",
       "<p>500 rows × 4 columns</p>\n",
       "</div>"
      ],
      "text/plain": [
       "                                                 title  \\\n",
       "0    No Duty on Chinese Imports for Public Solar Po...   \n",
       "1     Solar Tariffs Fall to Record Low of Rs 2.36/Unit   \n",
       "2                    Corning appoints new MD for India   \n",
       "3    L&T Makes Key Component for Advanced Nuclear R...   \n",
       "4    Two percent discount on lump sum payment of el...   \n",
       "..                                                 ...   \n",
       "495  Canada: COVID-19 Relief For Saskatchewan Minin...   \n",
       "496  TN boiler explosion: Amit Shah assures all pos...   \n",
       "497  TN boiler explosion: Amit Shah assures all pos...   \n",
       "498  Tamil Nadu: 6 lost their lives, 17 injured in ...   \n",
       "499     New investments in India plunge to 16-year low   \n",
       "\n",
       "                                                 issue  \\\n",
       "0    Ministry of New and Renewable Energy, Ministry...   \n",
       "1                 Ministry of New and Renewable Energy   \n",
       "2                                            Honeywell   \n",
       "3                                 L&T, Larsen & Toubro   \n",
       "4                                       Power Ministry   \n",
       "..                                                 ...   \n",
       "495                              General Industry news   \n",
       "496                                Power Industry News   \n",
       "497                                Power Industry News   \n",
       "498                                Power Industry News   \n",
       "499                                            Economy   \n",
       "\n",
       "                                           description  \\\n",
       "0     New Delhi Chinese imports for public solar po...   \n",
       "1     Bengaluru: Solar tariffs fell to a record low...   \n",
       "2     Corning Incorporated has announced that Sudhi...   \n",
       "3     MUMBAI Larsen & Toubro has completed the manu...   \n",
       "4                                                  NaN   \n",
       "..                                                 ...   \n",
       "495   On June 12, 2020, the Government of Saskatche...   \n",
       "496   Union Home Minister Amit Shah on Wednesday sa...   \n",
       "497   New Delhi [India], July 1 (ANI): Union Home M...   \n",
       "498   In Tamil Nadu, six people lost their lives an...   \n",
       "499   Fresh capex announcements touched historic lo...   \n",
       "\n",
       "                         website  \n",
       "0     The Economic Times - Delhi  \n",
       "1    The Economic Times - Mumbai  \n",
       "2         BioSpectrum - National  \n",
       "3     The Economic Times - Delhi  \n",
       "4                Saamna - Mumbai  \n",
       "..                           ...  \n",
       "495                       Mondaq  \n",
       "496                  Webindia123  \n",
       "497               Punjab Tribune  \n",
       "498                  News On AIR  \n",
       "499                 Livemint.com  \n",
       "\n",
       "[500 rows x 4 columns]"
      ]
     },
     "execution_count": 7,
     "metadata": {},
     "output_type": "execute_result"
    }
   ],
   "source": [
    "df"
   ]
  },
  {
   "cell_type": "code",
   "execution_count": 8,
   "metadata": {},
   "outputs": [
    {
     "data": {
      "text/plain": [
       "Customers News                                                            122\n",
       "Power Industry News                                                        91\n",
       "Electric Vehicles                                                          66\n",
       "General Industry news                                                      44\n",
       "Niti Aayog                                                                 38\n",
       "L&T                                                                        17\n",
       "Customers News,L&T                                                         17\n",
       "Siemens                                                                    12\n",
       "Niti Aayog,Electric Vehicles                                                7\n",
       "Power Industry News,General Industry news,Niti Aayog,Electric Vehicles      7\n",
       "ABB - All News,Customers News                                               6\n",
       "Power Ministry                                                              5\n",
       "Power Industry News,General Industry news                                   5\n",
       "Power Minister                                                              5\n",
       "ABB - All News                                                              5\n",
       "Customers News,Niti Aayog,L&T                                               4\n",
       "General Industry news,Electric Vehicles                                     3\n",
       "Rockwell                                                                    3\n",
       "Customers News,Honeywell                                                    3\n",
       "General Industry news,Industry Association                                  3\n",
       "ABB - All News,Customers News,Siemens                                       2\n",
       "Economy                                                                     2\n",
       "ABB - All News,Customers News,Siemens,Honeywell                             2\n",
       "Ministry of New and Renewable Energy                                        2\n",
       "Schneider                                                                   2\n",
       "Honeywell                                                                   2\n",
       "MNRE                                                                        2\n",
       "Power Industry News,Economy                                                 2\n",
       "Power Industry News,General Industry news,Industry Association              2\n",
       "Customers News,Niti Aayog                                                   2\n",
       "Ministry of New and Renewable Energy, MNRE                                  2\n",
       "L&T, Larsen & Toubro                                                        2\n",
       "Power Industry News,Siemens                                                 1\n",
       "ABB - All News,General Industry news,Economy                                1\n",
       "Larsen & Toubro, L&T                                                        1\n",
       "Customers News,Industry Association                                         1\n",
       "General Industry news,Economy                                               1\n",
       "Ministry of New and Renewable Energy, Ministry of Power, MNRE               1\n",
       "Electric Vehicles,Siemens                                                   1\n",
       "Ministry of Power                                                           1\n",
       "ABB - All News,Rockwell                                                     1\n",
       "ABB - All News,Customers News,EESL                                          1\n",
       "Industry Association                                                        1\n",
       "Power Ministry, MNRE                                                        1\n",
       "EESL                                                                        1\n",
       "Name: issue, dtype: int64"
      ]
     },
     "execution_count": 8,
     "metadata": {},
     "output_type": "execute_result"
    }
   ],
   "source": [
    "df['issue'].value_counts()"
   ]
  },
  {
   "cell_type": "code",
   "execution_count": 9,
   "metadata": {},
   "outputs": [
    {
     "data": {
      "text/plain": [
       "Customers News                                                    125\n",
       "Power Industry News                                               108\n",
       "Electric Vehicles                                                  66\n",
       "General Industry news                                              55\n",
       "Niti Aayog                                                         45\n",
       "L&T                                                                38\n",
       "Siemens                                                            17\n",
       "ABB - All News                                                     14\n",
       "Rockwell                                                            3\n",
       "Power Industry News,Economy                                         2\n",
       "Schneider                                                           2\n",
       "L&T, Larsen & Toubro                                                2\n",
       "Customers News,Niti Aayog                                           2\n",
       "Ministry of New and Renewable Energy                                2\n",
       "Economy                                                             2\n",
       "MNRE                                                                2\n",
       "Power Industry News,General Industry news,Industry Association      2\n",
       "Honeywell                                                           2\n",
       "Ministry of New and Renewable Energy, MNRE                          2\n",
       "EESL                                                                1\n",
       "Ministry of Power                                                   1\n",
       "Ministry of New and Renewable Energy, Ministry of Power, MNRE       1\n",
       "Industry Association                                                1\n",
       "Power Ministry, MNRE                                                1\n",
       "Power Industry News,Siemens                                         1\n",
       "Larsen & Toubro, L&T                                                1\n",
       "Customers News,Industry Association                                 1\n",
       "General Industry news,Economy                                       1\n",
       "Name: issue, dtype: int64"
      ]
     },
     "execution_count": 9,
     "metadata": {},
     "output_type": "execute_result"
    }
   ],
   "source": [
    "df['issue']=df['issue'].replace('Niti Aayog,Electric Vehicles','Niti Aayog')\n",
    "df['issue']=df['issue'].replace('Power Industry News,General Industry news,Niti Aayog,Electric Vehicles','Power Industry News')\n",
    "\n",
    "df['issue']=df['issue'].replace('ABB - All News,Customers News','ABB - All News')\n",
    "df['issue']=df['issue'].replace('Power Industry News,General Industry news','General Industry news')\n",
    "\n",
    "df['issue']=df['issue'].replace('Power Minister','Power Industry News')\n",
    "df['issue']=df['issue'].replace('Power Ministry','Power Industry News')\n",
    "\n",
    "df['issue']=df['issue'].replace('Customers News,L&T','L&T')\n",
    "df['issue']=df['issue'].replace('Customers News,Niti Aayog,L&T','L&T')\n",
    "\n",
    "\n",
    "df['issue']=df['issue'].replace('General Industry news,Electric Vehicles','General Industry news')\n",
    "df['issue']=df['issue'].replace('General Industry news,Industry Association ','General Industry news')\n",
    "\n",
    "df['issue']=df['issue'].replace('ABB - All News,Customers News,Siemens','Siemens')\n",
    "df['issue']=df['issue'].replace('GPower Industry News,Siemens','Siemens')\n",
    "df['issue']=df['issue'].replace('Electric Vehicles,Siemens','Siemens')\n",
    "df['issue']=df['issue'].replace('ABB - All News,Customers News,Siemens,Honeywell','Siemens')\n",
    "\n",
    "df['issue']=df['issue'].replace('ABB - All News,Customers News,EESL','ABB - All News')\n",
    "df['issue']=df['issue'].replace('ABB - All News,General Industry news,Economy','ABB - All News')\n",
    "df['issue']=df['issue'].replace('ABB - All News,Rockwell','ABB - All News')\n",
    "\n",
    "df['issue']=df['issue'].replace('Customers News,Honeywell','Customers News')\n",
    "df['issue']=df['issue'].replace('General Industry news,Industry Association','General Industry news')\n",
    "\n",
    "\n",
    "df['issue'].value_counts()"
   ]
  },
  {
   "cell_type": "code",
   "execution_count": 10,
   "metadata": {},
   "outputs": [],
   "source": [
    "# subset=[ \"Customers News\",                                                    \n",
    "# \"Power Industry News\",                                               \n",
    "# \"Electric Vehicles\",                                                \n",
    "# \"General Industry news\" ,                                            \n",
    "# \"Niti Aayog\",                                                         \n",
    "# \"L&T\" ,                                                             \n",
    "# \"Siemens\"  ,                                                         \n",
    "# \"ABB - All News\"]\n",
    "\n",
    "subset=[ \"Customers News\",                                                    \n",
    "\"Power Industry News\",                                               \n",
    "\"Electric Vehicles\",                                                \n",
    "\"General Industry news\" ,                                            \n",
    "\"Niti Aayog\",                                                         \n",
    "\"L&T\" ]\n",
    "\n",
    "\n",
    "df1=df[df['issue'].isin(subset)]"
   ]
  },
  {
   "cell_type": "code",
   "execution_count": 11,
   "metadata": {},
   "outputs": [
    {
     "data": {
      "text/plain": [
       "Customers News           125\n",
       "Power Industry News      108\n",
       "Electric Vehicles         66\n",
       "General Industry news     55\n",
       "Niti Aayog                45\n",
       "L&T                       38\n",
       "Name: issue, dtype: int64"
      ]
     },
     "execution_count": 11,
     "metadata": {},
     "output_type": "execute_result"
    }
   ],
   "source": [
    "df1['issue'].value_counts()"
   ]
  },
  {
   "cell_type": "code",
   "execution_count": 12,
   "metadata": {},
   "outputs": [
    {
     "data": {
      "text/html": [
       "<div>\n",
       "<style scoped>\n",
       "    .dataframe tbody tr th:only-of-type {\n",
       "        vertical-align: middle;\n",
       "    }\n",
       "\n",
       "    .dataframe tbody tr th {\n",
       "        vertical-align: top;\n",
       "    }\n",
       "\n",
       "    .dataframe thead th {\n",
       "        text-align: right;\n",
       "    }\n",
       "</style>\n",
       "<table border=\"1\" class=\"dataframe\">\n",
       "  <thead>\n",
       "    <tr style=\"text-align: right;\">\n",
       "      <th></th>\n",
       "      <th>title</th>\n",
       "      <th>issue</th>\n",
       "      <th>description</th>\n",
       "      <th>website</th>\n",
       "    </tr>\n",
       "  </thead>\n",
       "  <tbody>\n",
       "    <tr>\n",
       "      <td>4</td>\n",
       "      <td>Two percent discount on lump sum payment of el...</td>\n",
       "      <td>Power Industry News</td>\n",
       "      <td>NaN</td>\n",
       "      <td>Saamna - Mumbai</td>\n",
       "    </tr>\n",
       "    <tr>\n",
       "      <td>5</td>\n",
       "      <td>Increased electricity payments should be postp...</td>\n",
       "      <td>Power Industry News</td>\n",
       "      <td>NaN</td>\n",
       "      <td>Loksatta - Mumbai Vritanant - Mumbai</td>\n",
       "    </tr>\n",
       "    <tr>\n",
       "      <td>6</td>\n",
       "      <td>MERC directs power discoms to make billing tra...</td>\n",
       "      <td>Power Industry News</td>\n",
       "      <td>Following reports of domestic power consumers...</td>\n",
       "      <td>The Hindu - Mumbai</td>\n",
       "    </tr>\n",
       "    <tr>\n",
       "      <td>8</td>\n",
       "      <td>Corporation to make energy from waste to wealt...</td>\n",
       "      <td>Power Industry News</td>\n",
       "      <td>NaN</td>\n",
       "      <td>Rashtriya Sahara - Delhi</td>\n",
       "    </tr>\n",
       "    <tr>\n",
       "      <td>13</td>\n",
       "      <td>South MCD tie-up with Indian Oil and NTPC to s...</td>\n",
       "      <td>Power Industry News</td>\n",
       "      <td>NaN</td>\n",
       "      <td>Dainik Bhaskar - Delhi</td>\n",
       "    </tr>\n",
       "    <tr>\n",
       "      <td>14</td>\n",
       "      <td>Give free electricity up to 300 units and canc...</td>\n",
       "      <td>Power Industry News</td>\n",
       "      <td>NaN</td>\n",
       "      <td>Gujarat Samachar - Mumbai</td>\n",
       "    </tr>\n",
       "    <tr>\n",
       "      <td>15</td>\n",
       "      <td>Pari panel meetings resume; body of welfare of...</td>\n",
       "      <td>Power Industry News</td>\n",
       "      <td>NEW DELHI: Meetings of parliamentary standing...</td>\n",
       "      <td>Millennium Post - Delhi</td>\n",
       "    </tr>\n",
       "    <tr>\n",
       "      <td>18</td>\n",
       "      <td>Security fears may hamper Ladakh, J&amp;K power di...</td>\n",
       "      <td>Power Industry News</td>\n",
       "      <td>Privatization of electricity distribution in ...</td>\n",
       "      <td>Mint - National</td>\n",
       "    </tr>\n",
       "    <tr>\n",
       "      <td>20</td>\n",
       "      <td>SDMC inks agreement for Okhla Waste to Wealth ...</td>\n",
       "      <td>Power Industry News</td>\n",
       "      <td>NaN</td>\n",
       "      <td>Dainik Jagran - Jagran City - Delhi</td>\n",
       "    </tr>\n",
       "    <tr>\n",
       "      <td>21</td>\n",
       "      <td>Power bills shock consumers</td>\n",
       "      <td>Power Industry News</td>\n",
       "      <td>NaN</td>\n",
       "      <td>Divya Bhaskar (Gujarati) - Mumbai</td>\n",
       "    </tr>\n",
       "  </tbody>\n",
       "</table>\n",
       "</div>"
      ],
      "text/plain": [
       "                                                title                issue  \\\n",
       "4   Two percent discount on lump sum payment of el...  Power Industry News   \n",
       "5   Increased electricity payments should be postp...  Power Industry News   \n",
       "6   MERC directs power discoms to make billing tra...  Power Industry News   \n",
       "8   Corporation to make energy from waste to wealt...  Power Industry News   \n",
       "13  South MCD tie-up with Indian Oil and NTPC to s...  Power Industry News   \n",
       "14  Give free electricity up to 300 units and canc...  Power Industry News   \n",
       "15  Pari panel meetings resume; body of welfare of...  Power Industry News   \n",
       "18  Security fears may hamper Ladakh, J&K power di...  Power Industry News   \n",
       "20  SDMC inks agreement for Okhla Waste to Wealth ...  Power Industry News   \n",
       "21                        Power bills shock consumers  Power Industry News   \n",
       "\n",
       "                                          description  \\\n",
       "4                                                 NaN   \n",
       "5                                                 NaN   \n",
       "6    Following reports of domestic power consumers...   \n",
       "8                                                 NaN   \n",
       "13                                                NaN   \n",
       "14                                                NaN   \n",
       "15   NEW DELHI: Meetings of parliamentary standing...   \n",
       "18   Privatization of electricity distribution in ...   \n",
       "20                                                NaN   \n",
       "21                                                NaN   \n",
       "\n",
       "                                 website  \n",
       "4                        Saamna - Mumbai  \n",
       "5   Loksatta - Mumbai Vritanant - Mumbai  \n",
       "6                     The Hindu - Mumbai  \n",
       "8               Rashtriya Sahara - Delhi  \n",
       "13                Dainik Bhaskar - Delhi  \n",
       "14             Gujarat Samachar - Mumbai  \n",
       "15               Millennium Post - Delhi  \n",
       "18                       Mint - National  \n",
       "20   Dainik Jagran - Jagran City - Delhi  \n",
       "21     Divya Bhaskar (Gujarati) - Mumbai  "
      ]
     },
     "execution_count": 12,
     "metadata": {},
     "output_type": "execute_result"
    }
   ],
   "source": [
    "df1.head(10)"
   ]
  },
  {
   "cell_type": "code",
   "execution_count": 13,
   "metadata": {},
   "outputs": [
    {
     "data": {
      "text/plain": [
       "7"
      ]
     },
     "execution_count": 13,
     "metadata": {},
     "output_type": "execute_result"
    }
   ],
   "source": [
    "df1['description'].isna().sum()"
   ]
  },
  {
   "cell_type": "code",
   "execution_count": 14,
   "metadata": {},
   "outputs": [
    {
     "data": {
      "text/plain": [
       "0"
      ]
     },
     "execution_count": 14,
     "metadata": {},
     "output_type": "execute_result"
    }
   ],
   "source": [
    "df['title'].isna().sum()"
   ]
  },
  {
   "cell_type": "code",
   "execution_count": 15,
   "metadata": {},
   "outputs": [],
   "source": [
    "df1=df1.dropna()"
   ]
  },
  {
   "cell_type": "code",
   "execution_count": 16,
   "metadata": {},
   "outputs": [
    {
     "data": {
      "text/plain": [
       "Customers News           125\n",
       "Power Industry News      101\n",
       "Electric Vehicles         66\n",
       "General Industry news     55\n",
       "Niti Aayog                45\n",
       "L&T                       38\n",
       "Name: issue, dtype: int64"
      ]
     },
     "execution_count": 16,
     "metadata": {},
     "output_type": "execute_result"
    }
   ],
   "source": [
    "df1['description'].isna().sum()\n",
    "df1['issue'].value_counts()"
   ]
  },
  {
   "cell_type": "code",
   "execution_count": 17,
   "metadata": {},
   "outputs": [
    {
     "data": {
      "text/plain": [
       "6       Following reports of domestic power consumers...\n",
       "15      NEW DELHI: Meetings of parliamentary standing...\n",
       "18      Privatization of electricity distribution in ...\n",
       "24      The heavy engineering arm of Larsen and Toubr...\n",
       "25      New Delhi: The South Delhi Municipal Corporat...\n",
       "                             ...                        \n",
       "494     Taking to Twitter, Shah said he is anguished ...\n",
       "495     On June 12, 2020, the Government of Saskatche...\n",
       "496     Union Home Minister Amit Shah on Wednesday sa...\n",
       "497     New Delhi [India], July 1 (ANI): Union Home M...\n",
       "498     In Tamil Nadu, six people lost their lives an...\n",
       "Name: description, Length: 430, dtype: object"
      ]
     },
     "execution_count": 17,
     "metadata": {},
     "output_type": "execute_result"
    }
   ],
   "source": [
    "df1['description']"
   ]
  },
  {
   "cell_type": "code",
   "execution_count": 18,
   "metadata": {},
   "outputs": [
    {
     "data": {
      "text/plain": [
       "430"
      ]
     },
     "execution_count": 18,
     "metadata": {},
     "output_type": "execute_result"
    }
   ],
   "source": [
    "df1.shape[0]"
   ]
  },
  {
   "cell_type": "code",
   "execution_count": 19,
   "metadata": {},
   "outputs": [],
   "source": [
    "df1.index=range(df1.shape[0])"
   ]
  },
  {
   "cell_type": "code",
   "execution_count": 20,
   "metadata": {},
   "outputs": [],
   "source": [
    "from bs4 import BeautifulSoup\n",
    "import re\n",
    "def cleanText(text):\n",
    "    text = BeautifulSoup(text, \"lxml\").text\n",
    "    text = re.sub(r'\\|\\|\\|', r' ', text) \n",
    "    text = re.sub(r'\\n', r' ', text)\n",
    "    text = re.sub(r'\\)|\\(|-', r'', text) \n",
    "    #text = re.sub(r'\\n', r' ', text)\n",
    "    text = text.lower()\n",
    "    #text = text.replace('x', '')\n",
    "    return text\n",
    "\n",
    "df1['description'] = df1['description'].apply(cleanText)\n"
   ]
  },
  {
   "cell_type": "code",
   "execution_count": 21,
   "metadata": {},
   "outputs": [
    {
     "name": "stderr",
     "output_type": "stream",
     "text": [
      "[nltk_data] Downloading package punkt to\n",
      "[nltk_data]     C:\\Users\\kusha\\AppData\\Roaming\\nltk_data...\n",
      "[nltk_data]   Package punkt is already up-to-date!\n"
     ]
    }
   ],
   "source": [
    "import nltk\n",
    "nltk.download('punkt')\n",
    "def token(y):\n",
    "    return nltk.sent_tokenize(y)\n",
    "#df1['description'] = df1['description'].apply(token)"
   ]
  },
  {
   "cell_type": "code",
   "execution_count": 22,
   "metadata": {},
   "outputs": [],
   "source": [
    "from gensim.models import Doc2Vec\n",
    "import smart_open\n",
    "from gensim.models.doc2vec import TaggedDocument"
   ]
  },
  {
   "cell_type": "code",
   "execution_count": 23,
   "metadata": {},
   "outputs": [],
   "source": [
    "from sklearn.model_selection import train_test_split\n",
    "train, test = train_test_split(df1, stratify = df1['issue'], test_size = 0.3, random_state=42)\n",
    "\n",
    "from nltk.corpus import stopwords\n",
    "#nltk.download('stopwords')\n",
    "def tokenize_text(text):\n",
    "    tokens = []\n",
    "    for sent in nltk.sent_tokenize(text):\n",
    "        for word in nltk.word_tokenize(sent):\n",
    "            if len(word) < 2 or word in stopwords.words('english'):\n",
    "                continue\n",
    "            tokens.append(word.lower())\n",
    "    return tokens\n",
    "\n",
    "\n",
    "train_tagged = train.apply(\n",
    "    lambda r: TaggedDocument(words=tokenize_text(r['description']), tags=[r.issue]), axis=1)\n",
    "test_tagged = test.apply(\n",
    "    lambda r: TaggedDocument(words=tokenize_text(r['description']), tags=[r.issue]), axis=1)"
   ]
  },
  {
   "cell_type": "code",
   "execution_count": 24,
   "metadata": {},
   "outputs": [
    {
     "data": {
      "text/plain": [
       "(301,)"
      ]
     },
     "execution_count": 24,
     "metadata": {},
     "output_type": "execute_result"
    }
   ],
   "source": [
    "train_tagged.shape"
   ]
  },
  {
   "cell_type": "code",
   "execution_count": 25,
   "metadata": {},
   "outputs": [],
   "source": [
    "import multiprocessing\n",
    "from tqdm import tqdm\n",
    "cores = multiprocessing.cpu_count()"
   ]
  },
  {
   "cell_type": "markdown",
   "metadata": {},
   "source": [
    "## DOC2VEC training"
   ]
  },
  {
   "cell_type": "markdown",
   "metadata": {},
   "source": [
    "#### Uncomment to train the model"
   ]
  },
  {
   "cell_type": "code",
   "execution_count": 222,
   "metadata": {},
   "outputs": [
    {
     "data": {
      "text/plain": [
       "<gensim.models.doc2vec.Doc2Vec at 0x27bfd4712c8>"
      ]
     },
     "execution_count": 222,
     "metadata": {},
     "output_type": "execute_result"
    }
   ],
   "source": [
    "# # model_dbow = Doc2Vec(dm=0, vector_size=300, negative=5, hs=0, min_count=2, sample = 0, workers=cores)\n",
    "# model_dbow = Doc2Vec(seed=42,dm=0, vector_size=300, negative=5, hs=0, min_count=2, sample = 0, workers=cores)\n",
    "# model_dbow"
   ]
  },
  {
   "cell_type": "code",
   "execution_count": 223,
   "metadata": {},
   "outputs": [
    {
     "name": "stderr",
     "output_type": "stream",
     "text": [
      "100%|████████████████████████████████████████████████████████████████████████████| 301/301 [00:00<00:00, 301597.11it/s]\n"
     ]
    }
   ],
   "source": [
    "# model_dbow.build_vocab([x for x in tqdm(train_tagged.values)])"
   ]
  },
  {
   "cell_type": "code",
   "execution_count": 224,
   "metadata": {},
   "outputs": [
    {
     "name": "stderr",
     "output_type": "stream",
     "text": [
      "100%|████████████████████████████████████████████████████████████████████████████████████████| 301/301 [00:00<?, ?it/s]\n",
      "100%|████████████████████████████████████████████████████████████████████████████████████████| 301/301 [00:00<?, ?it/s]\n",
      "100%|████████████████████████████████████████████████████████████████████████████████████████| 301/301 [00:00<?, ?it/s]\n",
      "100%|████████████████████████████████████████████████████████████████████████████████████████| 301/301 [00:00<?, ?it/s]\n",
      "100%|████████████████████████████████████████████████████████████████████████████████████████| 301/301 [00:00<?, ?it/s]\n",
      "100%|████████████████████████████████████████████████████████████████████████████████████████| 301/301 [00:00<?, ?it/s]\n",
      "100%|████████████████████████████████████████████████████████████████████████████████████████| 301/301 [00:00<?, ?it/s]\n",
      "100%|████████████████████████████████████████████████████████████████████████████████████████| 301/301 [00:00<?, ?it/s]\n",
      "100%|████████████████████████████████████████████████████████████████████████████████████████| 301/301 [00:00<?, ?it/s]\n",
      "100%|████████████████████████████████████████████████████████████████████████████████████████| 301/301 [00:00<?, ?it/s]\n",
      "100%|████████████████████████████████████████████████████████████████████████████████████████| 301/301 [00:00<?, ?it/s]\n",
      "100%|████████████████████████████████████████████████████████████████████████████████████████| 301/301 [00:00<?, ?it/s]\n",
      "100%|████████████████████████████████████████████████████████████████████████████████████████| 301/301 [00:00<?, ?it/s]\n",
      "100%|████████████████████████████████████████████████████████████████████████████| 301/301 [00:00<00:00, 301597.11it/s]\n",
      "100%|████████████████████████████████████████████████████████████████████████████████████████| 301/301 [00:00<?, ?it/s]\n",
      "100%|████████████████████████████████████████████████████████████████████████████| 301/301 [00:00<00:00, 301453.08it/s]\n",
      "100%|████████████████████████████████████████████████████████████████████████████████████████| 301/301 [00:00<?, ?it/s]\n",
      "100%|████████████████████████████████████████████████████████████████████████████████████████| 301/301 [00:00<?, ?it/s]\n",
      "100%|████████████████████████████████████████████████████████████████████████████████████████| 301/301 [00:00<?, ?it/s]\n",
      "100%|████████████████████████████████████████████████████████████████████████████████████████| 301/301 [00:00<?, ?it/s]\n",
      "100%|████████████████████████████████████████████████████████████████████████████████████████| 301/301 [00:00<?, ?it/s]\n",
      "100%|████████████████████████████████████████████████████████████████████████████| 301/301 [00:00<00:00, 301957.79it/s]\n",
      "100%|████████████████████████████████████████████████████████████████████████████| 301/301 [00:00<00:00, 301597.11it/s]\n",
      "100%|████████████████████████████████████████████████████████████████████████████████████████| 301/301 [00:00<?, ?it/s]\n",
      "100%|████████████████████████████████████████████████████████████████████████████████████████| 301/301 [00:00<?, ?it/s]\n",
      "100%|████████████████████████████████████████████████████████████████████████████████████████| 301/301 [00:00<?, ?it/s]\n",
      "100%|████████████████████████████████████████████████████████████████████████████████████████| 301/301 [00:00<?, ?it/s]\n",
      "100%|████████████████████████████████████████████████████████████████████████████████████████| 301/301 [00:00<?, ?it/s]\n",
      "100%|████████████████████████████████████████████████████████████████████████████████████████| 301/301 [00:00<?, ?it/s]\n",
      "100%|████████████████████████████████████████████████████████████████████████████████████████| 301/301 [00:00<?, ?it/s]\n"
     ]
    }
   ],
   "source": [
    "# from sklearn import utils\n",
    "# for epoch in range(30):\n",
    "#     model_dbow.train([x for x in tqdm(train_tagged.values)], total_examples=len(train_tagged.values), epochs=1)\n",
    "# #     model_dbow.alpha -= 0.002\n",
    "# #     model_dbow.min_alpha = model_dbow.alpha"
   ]
  },
  {
   "cell_type": "code",
   "execution_count": 225,
   "metadata": {},
   "outputs": [],
   "source": [
    "#  model_dbow.save(\"doc2vec_new.model\")"
   ]
  },
  {
   "cell_type": "markdown",
   "metadata": {},
   "source": [
    "## Loading the pretrained model"
   ]
  },
  {
   "cell_type": "code",
   "execution_count": 49,
   "metadata": {},
   "outputs": [],
   "source": [
    "model = Doc2Vec.load(\"doc2vec.model\")"
   ]
  },
  {
   "cell_type": "code",
   "execution_count": 50,
   "metadata": {},
   "outputs": [],
   "source": [
    "def vec_for_learning(model, tagged_docs):\n",
    "    sents = tagged_docs.values\n",
    "    model.random.seed(42)\n",
    "    targets, regressors = zip(*[(doc.tags[0], model.infer_vector(doc.words, steps=20)) for doc in sents])\n",
    "    return targets, regressors\n",
    "\n"
   ]
  },
  {
   "cell_type": "code",
   "execution_count": 51,
   "metadata": {},
   "outputs": [],
   "source": [
    "y_train, X_train = vec_for_learning(model, train_tagged)\n",
    "y_test, X_test = vec_for_learning(model, test_tagged)"
   ]
  },
  {
   "cell_type": "markdown",
   "metadata": {},
   "source": [
    "### Xgboost"
   ]
  },
  {
   "cell_type": "code",
   "execution_count": 70,
   "metadata": {},
   "outputs": [],
   "source": [
    "from xgboost import XGBClassifier\n",
    "\n"
   ]
  },
  {
   "cell_type": "code",
   "execution_count": 71,
   "metadata": {},
   "outputs": [
    {
     "data": {
      "text/plain": [
       "numpy.ndarray"
      ]
     },
     "execution_count": 71,
     "metadata": {},
     "output_type": "execute_result"
    }
   ],
   "source": [
    "type(X_train)"
   ]
  },
  {
   "cell_type": "code",
   "execution_count": 72,
   "metadata": {},
   "outputs": [],
   "source": [
    "y_train=np.asarray(y_train)\n",
    "X_train=np.asarray(X_train)"
   ]
  },
  {
   "cell_type": "code",
   "execution_count": 73,
   "metadata": {},
   "outputs": [
    {
     "data": {
      "text/plain": [
       "XGBClassifier(base_score=0.5, booster='gbtree', colsample_bylevel=1,\n",
       "              colsample_bynode=1, colsample_bytree=1, gamma=0, gpu_id=-1,\n",
       "              importance_type='gain', interaction_constraints='',\n",
       "              learning_rate=0.300000012, max_delta_step=0, max_depth=6,\n",
       "              min_child_weight=1, missing=nan, monotone_constraints='()',\n",
       "              n_estimators=100, n_jobs=0, num_parallel_tree=1,\n",
       "              objective='multi:softprob', random_state=0, reg_alpha=0,\n",
       "              reg_lambda=1, scale_pos_weight=None, subsample=1,\n",
       "              tree_method='exact', validate_parameters=1, verbosity=None)"
      ]
     },
     "execution_count": 73,
     "metadata": {},
     "output_type": "execute_result"
    }
   ],
   "source": [
    "model = XGBClassifier()\n",
    "\n",
    "model.fit(X_train, y_train)"
   ]
  },
  {
   "cell_type": "code",
   "execution_count": 74,
   "metadata": {},
   "outputs": [],
   "source": [
    "y_test=np.asarray(y_test)\n",
    "X_test=np.asarray(X_test)"
   ]
  },
  {
   "cell_type": "code",
   "execution_count": 75,
   "metadata": {},
   "outputs": [],
   "source": [
    "# make predictions for test data\n",
    "y_pred = model.predict(X_test)\n",
    "# predictions = [np.round(value) for value in y_pred]"
   ]
  },
  {
   "cell_type": "code",
   "execution_count": 76,
   "metadata": {},
   "outputs": [],
   "source": [
    "from sklearn.metrics import classification_report "
   ]
  },
  {
   "cell_type": "code",
   "execution_count": 77,
   "metadata": {},
   "outputs": [
    {
     "name": "stdout",
     "output_type": "stream",
     "text": [
      "                       precision    recall  f1-score   support\n",
      "\n",
      "       Customers News       0.74      0.78      0.76        37\n",
      "    Electric Vehicles       0.63      0.95      0.76        20\n",
      "General Industry news       0.67      0.59      0.62        17\n",
      "                  L&T       0.89      0.73      0.80        11\n",
      "           Niti Aayog       1.00      0.79      0.88        14\n",
      "  Power Industry News       0.80      0.67      0.73        30\n",
      "\n",
      "             accuracy                           0.75       129\n",
      "            macro avg       0.79      0.75      0.76       129\n",
      "         weighted avg       0.77      0.75      0.75       129\n",
      "\n"
     ]
    }
   ],
   "source": [
    "print(classification_report(y_test, y_pred))"
   ]
  },
  {
   "cell_type": "code",
   "execution_count": 66,
   "metadata": {},
   "outputs": [],
   "source": [
    "param1 = {\n",
    "    'eta': [0.3,0.1,0.2], \n",
    "    'max_depth': [3,4,5,6], \n",
    "    'seed': [42],\n",
    "     'n_estimators': [100,200,300,500]\n",
    "    } \n",
    "from sklearn.model_selection import StratifiedKFold, GridSearchCV\n",
    "\n",
    "skf = StratifiedKFold(n_splits=10, shuffle = True)\n",
    "\n",
    "xgb_model = XGBClassifier()\n",
    "\n",
    "grid = GridSearchCV(xgb_model, \n",
    "                    param_grid = param1, \n",
    "                     \n",
    "                    n_jobs = -1, \n",
    "                    cv = skf.split(X_train, y_train)\n",
    "                    )\n"
   ]
  },
  {
   "cell_type": "code",
   "execution_count": 67,
   "metadata": {},
   "outputs": [
    {
     "name": "stderr",
     "output_type": "stream",
     "text": [
      "C:\\Users\\kusha\\Anaconda3\\lib\\site-packages\\sklearn\\model_selection\\_search.py:814: DeprecationWarning: The default of the `iid` parameter will change from True to False in version 0.22 and will be removed in 0.24. This will change numeric results when test-set sizes are unequal.\n",
      "  DeprecationWarning)\n"
     ]
    },
    {
     "data": {
      "text/plain": [
       "GridSearchCV(cv=<generator object _BaseKFold.split at 0x000001A194A4E6C8>,\n",
       "             error_score='raise-deprecating',\n",
       "             estimator=XGBClassifier(base_score=None, booster=None,\n",
       "                                     colsample_bylevel=None,\n",
       "                                     colsample_bynode=None,\n",
       "                                     colsample_bytree=None, gamma=None,\n",
       "                                     gpu_id=None, importance_type='gain',\n",
       "                                     interaction_constraints=None,\n",
       "                                     learning_rate=None, max_delta_step=None,\n",
       "                                     max_depth=None...\n",
       "                                     objective='binary:logistic',\n",
       "                                     random_state=None, reg_alpha=None,\n",
       "                                     reg_lambda=None, scale_pos_weight=None,\n",
       "                                     subsample=None, tree_method=None,\n",
       "                                     validate_parameters=None, verbosity=None),\n",
       "             iid='warn', n_jobs=-1,\n",
       "             param_grid={'eta': [0.3, 0.1, 0.2], 'max_depth': [3, 4, 5, 6],\n",
       "                         'n_estimators': [100, 200, 300, 500], 'seed': [42]},\n",
       "             pre_dispatch='2*n_jobs', refit=True, return_train_score=False,\n",
       "             scoring=None, verbose=0)"
      ]
     },
     "execution_count": 67,
     "metadata": {},
     "output_type": "execute_result"
    }
   ],
   "source": [
    "grid.fit(X_train, y_train)"
   ]
  },
  {
   "cell_type": "code",
   "execution_count": 97,
   "metadata": {},
   "outputs": [
    {
     "name": "stdout",
     "output_type": "stream",
     "text": [
      "------------XGB Report---------------\n",
      "                       precision    recall  f1-score   support\n",
      "\n",
      "       Customers News       0.74      0.78      0.76        37\n",
      "    Electric Vehicles       0.63      0.95      0.76        20\n",
      "General Industry news       0.67      0.59      0.62        17\n",
      "                  L&T       0.89      0.73      0.80        11\n",
      "           Niti Aayog       1.00      0.79      0.88        14\n",
      "  Power Industry News       0.80      0.67      0.73        30\n",
      "\n",
      "             accuracy                           0.75       129\n",
      "            macro avg       0.79      0.75      0.76       129\n",
      "         weighted avg       0.77      0.75      0.75       129\n",
      "\n"
     ]
    }
   ],
   "source": [
    "best_pars = grid.best_params_\n",
    "best_model = grid.best_estimator_\n",
    "y_pred = best_model.predict(X_test)\n",
    "print(\"------------XGB Report---------------\")\n",
    "print(classification_report(y_test, y_pred))"
   ]
  },
  {
   "cell_type": "markdown",
   "metadata": {},
   "source": [
    "### SVM"
   ]
  },
  {
   "cell_type": "code",
   "execution_count": 83,
   "metadata": {},
   "outputs": [],
   "source": [
    "from sklearn.svm import SVC\n"
   ]
  },
  {
   "cell_type": "code",
   "execution_count": 93,
   "metadata": {},
   "outputs": [
    {
     "name": "stderr",
     "output_type": "stream",
     "text": [
      "C:\\Users\\kusha\\Anaconda3\\lib\\site-packages\\sklearn\\model_selection\\_search.py:814: DeprecationWarning: The default of the `iid` parameter will change from True to False in version 0.22 and will be removed in 0.24. This will change numeric results when test-set sizes are unequal.\n",
      "  DeprecationWarning)\n"
     ]
    },
    {
     "data": {
      "text/plain": [
       "GridSearchCV(cv=<generator object _BaseKFold.split at 0x000001A194A69048>,\n",
       "             error_score='raise-deprecating',\n",
       "             estimator=SVC(C=1.0, cache_size=200, class_weight=None, coef0=0.0,\n",
       "                           decision_function_shape='ovr', degree=3,\n",
       "                           gamma='auto_deprecated', kernel='rbf', max_iter=-1,\n",
       "                           probability=False, random_state=None, shrinking=True,\n",
       "                           tol=0.001, verbose=False),\n",
       "             iid='warn', n_jobs=-1,\n",
       "             param_grid={'C': [0.1, 1, 10, 100], 'gamma': [0.01, 0.001],\n",
       "                         'kernel': ['rbf']},\n",
       "             pre_dispatch='2*n_jobs', refit=True, return_train_score=False,\n",
       "             scoring=None, verbose=0)"
      ]
     },
     "execution_count": 93,
     "metadata": {},
     "output_type": "execute_result"
    }
   ],
   "source": [
    "param_grid = {'C': [0.1, 1, 10, 100],  \n",
    "              'gamma': [0.01,0.001], \n",
    "              'kernel': ['rbf']} \n",
    "skf = StratifiedKFold(n_splits=10, shuffle = True)\n",
    "grid_svm = GridSearchCV(SVC(), param_grid, n_jobs = -1, \n",
    "                    cv = skf.split(X_train, y_train)) \n",
    "  \n",
    "# fitting the model for grid search \n",
    "grid_svm.fit(X_train, y_train) "
   ]
  },
  {
   "cell_type": "code",
   "execution_count": 98,
   "metadata": {},
   "outputs": [
    {
     "name": "stdout",
     "output_type": "stream",
     "text": [
      "-------------SVM Report------------\n",
      "                       precision    recall  f1-score   support\n",
      "\n",
      "       Customers News       0.81      0.81      0.81        37\n",
      "    Electric Vehicles       0.53      0.80      0.64        20\n",
      "General Industry news       0.55      0.65      0.59        17\n",
      "                  L&T       1.00      0.64      0.78        11\n",
      "           Niti Aayog       1.00      0.79      0.88        14\n",
      "  Power Industry News       0.88      0.70      0.78        30\n",
      "\n",
      "             accuracy                           0.74       129\n",
      "            macro avg       0.79      0.73      0.75       129\n",
      "         weighted avg       0.79      0.74      0.75       129\n",
      "\n"
     ]
    }
   ],
   "source": [
    "best_pars = grid_svm.best_params_\n",
    "best_model = grid_svm.best_estimator_\n",
    "y_pred = best_model.predict(X_test)\n",
    "print(\"-------------SVM Report------------\")\n",
    "print(classification_report(y_test, y_pred))"
   ]
  },
  {
   "cell_type": "code",
   "execution_count": 95,
   "metadata": {},
   "outputs": [
    {
     "data": {
      "text/plain": [
       "{'C': 10, 'gamma': 0.01, 'kernel': 'rbf'}"
      ]
     },
     "execution_count": 95,
     "metadata": {},
     "output_type": "execute_result"
    }
   ],
   "source": [
    "# best_pars"
   ]
  },
  {
   "cell_type": "code",
   "execution_count": null,
   "metadata": {},
   "outputs": [],
   "source": [
    "     "
   ]
  },
  {
   "cell_type": "code",
   "execution_count": null,
   "metadata": {},
   "outputs": [],
   "source": []
  }
 ],
 "metadata": {
  "kernelspec": {
   "display_name": "Python 3",
   "language": "python",
   "name": "python3"
  },
  "language_info": {
   "codemirror_mode": {
    "name": "ipython",
    "version": 3
   },
   "file_extension": ".py",
   "mimetype": "text/x-python",
   "name": "python",
   "nbconvert_exporter": "python",
   "pygments_lexer": "ipython3",
   "version": "3.7.4"
  }
 },
 "nbformat": 4,
 "nbformat_minor": 2
}
